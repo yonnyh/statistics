{
 "cells": [
  {
   "cell_type": "code",
   "execution_count": 30,
   "metadata": {
    "slideshow": {
     "slide_type": "slide"
    }
   },
   "outputs": [],
   "source": [
    "import numpy as np\n",
    "import matplotlib.pyplot as plt\n",
    "from mpl_toolkits.mplot3d import Axes3D\n",
    "import warnings\n",
    "warnings.filterwarnings('ignore')\n",
    "\n",
    "def graph(x, y, title=\"\"):\n",
    "    plt.plot(x, y, '.')\n",
    "    plt.title(title)\n",
    "    plt.ylim(0)\n",
    "    plt.grid()\n",
    "    plt.show()\n",
    "\n",
    "def graph_3d(x, y, z, title=\"\"):\n",
    "    fig = plt.figure()\n",
    "    ax = fig.gca(projection='3d')\n",
    "    plt.title(title)\n",
    "    ax.plot(x, y, z)\n",
    "\n",
    "x = np.arange(100)\n",
    "epsilon = np.random.normal(0, 1, 100)"
   ]
  },
  {
   "cell_type": "code",
   "execution_count": null,
   "metadata": {},
   "outputs": [],
   "source": [
    "beta1 = 0.5\n",
    "data1 = x * beta1 + epsilon\n",
    "# graph(x, data1, \"no intercept\")\n",
    "\n",
    "beta_hat1 = np.inner(data1, x) / np.inner(x, x)\n",
    "print(f\"beta1: {beta1}, beta1_hat: {beta_hat1}\")"
   ]
  },
  {
   "cell_type": "markdown",
   "metadata": {
    "slideshow": {
     "slide_type": "slide"
    }
   },
   "source": [
    "Regress of data on the residual vector of x is aquvivalent to regress data on x without intercept"
   ]
  },
  {
   "cell_type": "code",
   "execution_count": 18,
   "metadata": {
    "slideshow": {
     "slide_type": "subslide"
    }
   },
   "outputs": [
    {
     "name": "stdout",
     "output_type": "stream",
     "text": [
      "beta1: 0.5, beta1_hat: 0.49169737736198027\n"
     ]
    }
   ],
   "source": [
    "beta0 = 20\n",
    "data2 = data1 + beta0\n",
    "# graph(x, data2, \"with intercept\")\n",
    "\n",
    "x_hat = np.inner(x, np.ones(100)) / np.inner(np.ones(100), np.ones(100))  # == np.mean(x)\n",
    "residual_vec = x - x_hat\n",
    "beta_hat1 = np.inner(data1, residual_vec) / np.inner(residual_vec, residual_vec)\n",
    "print(f\"beta1: {beta1}, beta1_hat: {beta_hat1}\")"
   ]
  },
  {
   "cell_type": "code",
   "execution_count": 19,
   "metadata": {
    "slideshow": {
     "slide_type": "fragment"
    }
   },
   "outputs": [],
   "source": [
    "x_2d = np.transpose(np.mgrid[:100, :100], (2, 1, 0)).reshape(-1, 2)\n",
    "# print(x_2d.shape)\n",
    "x_2d_homogen = np.hstack((np.ones((10000, 1)), x_2d))\n",
    "# print(x_2d_homogen.shape)\n",
    "epsilon_2d = np.random.normal(0, 1, 10000).reshape(-1, 1)\n",
    "\n",
    "beta2 = 2\n",
    "beta_vec = np.array([beta0, beta1, beta2]).reshape(-1, 1)\n",
    "data3 = (np.dot(x_2d_homogen, beta_vec) + epsilon_2d).T\n",
    "# print(data3.shape)\n",
    "# graph_3d(x_2d[:, 0], x_2d[:, 1], np.ravel(data3), \"3D half-space\")"
   ]
  },
  {
   "cell_type": "code",
   "execution_count": 61,
   "metadata": {
    "slideshow": {
     "slide_type": "notes"
    }
   },
   "outputs": [
    {
     "name": "stdout",
     "output_type": "stream",
     "text": [
      "beta1: 0.5, beta1_hat: [0.49993458]\n"
     ]
    }
   ],
   "source": [
    "def regeression_by_orthogonalization(x, y, wanted_beta):  # simply: Gram–Schmidt process in n dimensions\n",
    "    \"\"\"for homogenious x\"\"\"\n",
    "    n, p = x.shape\n",
    "    \n",
    "    # create a list of indices such that the wanted is the last\n",
    "    idxs = list(range(p))\n",
    "    idxs[-1] = wanted_beta\n",
    "    idxs[wanted_beta] = p-1\n",
    "#     print(idxs)\n",
    "    \n",
    "    for i in range(p):\n",
    "        all_residuals = np.ones((n, i+1))\n",
    "        coeffs = [0] * i\n",
    "        sum_of_res = [0] * i\n",
    "        for j in range(i):\n",
    "            coeffs[j] = np.inner(x[:, idxs[i]], all_residuals[:, j]) / np.inner(all_residuals[:, j], all_residuals[:, j])\n",
    "            sum_of_res[j] = np.sum(coeffs[j] * all_residuals[:, :j], axis=1)\n",
    "        all_residuals[:, i] = x[:, idxs[i]] - sum(sum_of_res)\n",
    "    return np.inner(y, all_residuals[:, i]) / np.inner(all_residuals[:, i], all_residuals[:, i])\n",
    "\n",
    "wanted_beta = 1\n",
    "wanted_beta_hat = regeression_by_orthogonalization(x_2d_homogen, data3, wanted_beta)\n",
    "print(f\"beta{wanted_beta}: {beta_vec[wanted_beta][0]}, beta{wanted_beta}_hat: {wanted_beta_hat}\")"
   ]
  }
 ],
 "metadata": {
  "kernelspec": {
   "display_name": "Python 3",
   "language": "python",
   "name": "python3"
  },
  "language_info": {
   "codemirror_mode": {
    "name": "ipython",
    "version": 3
   },
   "file_extension": ".py",
   "mimetype": "text/x-python",
   "name": "python",
   "nbconvert_exporter": "python",
   "pygments_lexer": "ipython3",
   "version": "3.7.0"
  }
 },
 "nbformat": 4,
 "nbformat_minor": 2
}
